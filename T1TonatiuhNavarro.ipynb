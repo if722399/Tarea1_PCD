{
 "cells": [
  {
   "cell_type": "markdown",
   "id": "c4f940ef",
   "metadata": {},
   "source": [
    "# <font color = 'Blue'>MLops</font>"
   ]
  },
  {
   "cell_type": "markdown",
   "id": "6dba7708",
   "metadata": {},
   "source": [
    "## 1. Keeping track of everything"
   ]
  },
  {
   "cell_type": "markdown",
   "id": "d97a1098",
   "metadata": {},
   "source": [
    "**Data:**  As the data we train, evaluate and test on changes all the time we need to keep track of which data we used for each experiment, so we have DVC (Data Version Control, this is a great tool in order to versioning our code and data"
   ]
  },
  {
   "cell_type": "markdown",
   "id": "49aa62e8",
   "metadata": {},
   "source": [
    "**Experiments:** We need to document our experiments in order to make all the experiments transparent for everyone in the team with the objective of avoid running the same experiment twice.<br>\n",
    "**mlflow** is a web app with an API that we can deploy anywhere to make it a central space for recording and visualizing the experiments"
   ]
  },
  {
   "cell_type": "markdown",
   "id": "d6ea9b06",
   "metadata": {},
   "source": [
    "## 2. Build and deployment pipeline"
   ]
  },
  {
   "cell_type": "markdown",
   "id": "6b7198b1",
   "metadata": {},
   "source": [
    "**ML is a microservice and Docker is awesome**: In MLops there is the need to create a microservice (the heart of this container will be the model) that receives the input through a REST API and the output will be the model prediction. <br>\n",
    "The best way to create this microserver is with **Docker**"
   ]
  },
  {
   "cell_type": "markdown",
   "id": "dcd2aaef",
   "metadata": {},
   "source": [
    "**Continuous integration:** When we build a microservice with Docker we create a Docker Image, here is where we can test the quality of our code and measure our model prediction's time, only after these tests were passed succesfuly we build and push our Docker Image. "
   ]
  },
  {
   "cell_type": "markdown",
   "id": "c52ebf35",
   "metadata": {},
   "source": [
    "**Continuous deployment:** After we build and uploaded our docker image it's time to run the microservice, it can run locally or in the cloud, the process is the same"
   ]
  },
  {
   "cell_type": "markdown",
   "id": "689b9b6d",
   "metadata": {},
   "source": [
    "**Running multiple microservices:** It's pretty often when we have multiple microservices (we call it container) that must talk to each other and when this happens we need a container orchetraitor and **Kubernetes** is a great tool for doing this"
   ]
  },
  {
   "cell_type": "markdown",
   "id": "9de26ebf",
   "metadata": {},
   "source": [
    "**Monitoring:** To keep an eye on our model we neew a monitoring system because we need to be sure that the predictions make sense. There are multiple solutions but a very good option is ELK stack by Elastic."
   ]
  },
  {
   "cell_type": "markdown",
   "id": "8228c66d",
   "metadata": {},
   "source": [
    "**Retraining our model:** With time the available dataset that we can train on grows, so for this reason the model could be improved and this is also why it is so important to version our data."
   ]
  }
 ],
 "metadata": {
  "kernelspec": {
   "display_name": "Python 3 (ipykernel)",
   "language": "python",
   "name": "python3"
  },
  "language_info": {
   "codemirror_mode": {
    "name": "ipython",
    "version": 3
   },
   "file_extension": ".py",
   "mimetype": "text/x-python",
   "name": "python",
   "nbconvert_exporter": "python",
   "pygments_lexer": "ipython3",
   "version": "3.8.3"
  }
 },
 "nbformat": 4,
 "nbformat_minor": 5
}
